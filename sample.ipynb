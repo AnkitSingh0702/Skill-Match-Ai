{
 "cells": [
  {
   "cell_type": "markdown",
   "id": "c2baab54",
   "metadata": {},
   "source": [
    "### Handle pdf's in pyhton"
   ]
  },
  {
   "cell_type": "code",
   "execution_count": 3,
   "id": "504873b0",
   "metadata": {},
   "outputs": [],
   "source": [
    "from pypdf import PdfReader"
   ]
  },
  {
   "cell_type": "code",
   "execution_count": 4,
   "id": "4337dd98",
   "metadata": {},
   "outputs": [],
   "source": [
    "pdf_file = PdfReader(\"skill.pdf\")"
   ]
  },
  {
   "cell_type": "code",
   "execution_count": 7,
   "id": "b08e3aa2",
   "metadata": {},
   "outputs": [],
   "source": [
    "pdf_text = \"\"\n",
    "for page in pdf_file.pages:\n",
    "    pdf_text += page.extract_text()"
   ]
  },
  {
   "cell_type": "code",
   "execution_count": 8,
   "id": "c0dbe25d",
   "metadata": {},
   "outputs": [
    {
     "name": "stdout",
     "output_type": "stream",
     "text": [
      "Case Study: SkillMatch - AI-Powered Resume \n",
      "Optimization Tool \n",
      "GitHub Repository: https://github.com/mukul-mschauhan/SkillMatch \n",
      "Live Application: https://skill-match.streamlit.app/ \n",
      " \n",
      "Problem Statement \n",
      "In today’s competitive job market, job seekers often struggle to tailor their resumes \n",
      "effectively for diverse job descriptions. Most applicants use generic resumes that fail to \n",
      "meet the specific requirements listed in job postings. This misalignment leads to reduced \n",
      "chances of selection by Applicant Tracking Systems (ATS) and recruiters, causing \n",
      "frustration and lost opportunities for capable candidates. \n",
      "Additionally, hiring teams are overwhelmed by a flood of non-relevant applications. A vast \n",
      "number of candidates apply without tailoring their resumes, which makes filtering and \n",
      "shortlisting highly time-consuming and inefficient. \n",
      " \n",
      "Business Objective \n",
      "To create a smart and scalable AI-driven platform that:  \n",
      "1. Analyzes uploaded resumes and job descriptions.  \n",
      "2. Identifies key skill gaps, alignment, and missing competencies.  \n",
      "3. Recommends optimized resume sections to maximize matching potential.  \n",
      "4. Enhances resume alignment with ATS scoring mechanisms.  \n",
      "5. Reduces the cognitive load on both job seekers and hiring teams. \n",
      " \n",
      "Proposed Solution: SkillMatch \n",
      "SkillMatch is a lightweight AI application built using Google Gemini and LangChain that \n",
      "provides real-time resume analysis and optimization. \n",
      "Key Features: \n",
      " Upload Resume and Job Description. \n",
      " AI-driven analysis and gap identification.  Resume optimization tips and recommendations. \n",
      " Streamlit UI for intuitive and accessible interaction. \n",
      " \n",
      "Tech Stack Used \n",
      " Frontend: Streamlit \n",
      " Backend: Python, LangChain \n",
      " LLM: Google Gemini (via LangChain integration) \n",
      " File Handling: PDF and Text \n",
      " Deployment: Streamlit Cloud \n",
      " Version Control: Git & GitHub \n",
      " \n",
      "Architecture Overview \n",
      "1. Input Layer: Upload Resume and JD files. \n",
      "2. Text Extraction: Parse PDF and text content. \n",
      "3. Embedding & Prompting: Use LangChain to prompt Google Gemini for skill gap \n",
      "analysis. \n",
      "4. AI Output Interpretation: Gemini returns job-relevant improvement suggestions. \n",
      "5. Display & Feedback: Streamlit app displays matching score and revised sections. \n",
      " \n",
      "Business Impact \n",
      " For Job Seekers: \n",
      "o Increases the probability of shortlisting. \n",
      "o Empowers users to customize resumes with AI assistance. \n",
      "o Reduces time spent manually editing CVs for different JDs. \n",
      " For Recruiters and HR Teams: \n",
      "o Improves the quality of incoming applications. \n",
      "o Reduces time and effort spent on filtering. \n",
      "o Makes ATS pipelines more efficient. \n",
      " \n",
      "Use Case Applications \n",
      " Career portals and job search platforms. \n",
      " College/university placement cells. \n",
      " HR consultancies and resume writing services. \n",
      " Freelance platforms offering resume services. \n",
      " Conclusion \n",
      "SkillMatch showcases how GenAI can revolutionize the job application process by bridging \n",
      "the gap between resume content and job expectations. Its scalable design, real-world \n",
      "impact, and ease of deployment make it a perfect tool for both individual job seekers and \n",
      "enterprise-level HR use. \n",
      " \n",
      "GitHub: https://github.com/mukul-mschauhan/SkillMatch \n",
      "App Link: https://skill-match.streamlit.app/ \n"
     ]
    }
   ],
   "source": [
    "print(pdf_text)"
   ]
  },
  {
   "cell_type": "code",
   "execution_count": null,
   "id": "8294e671",
   "metadata": {},
   "outputs": [],
   "source": []
  }
 ],
 "metadata": {
  "kernelspec": {
   "display_name": "Python 3",
   "language": "python",
   "name": "python3"
  },
  "language_info": {
   "codemirror_mode": {
    "name": "ipython",
    "version": 3
   },
   "file_extension": ".py",
   "mimetype": "text/x-python",
   "name": "python",
   "nbconvert_exporter": "python",
   "pygments_lexer": "ipython3",
   "version": "3.13.2"
  }
 },
 "nbformat": 4,
 "nbformat_minor": 5
}
